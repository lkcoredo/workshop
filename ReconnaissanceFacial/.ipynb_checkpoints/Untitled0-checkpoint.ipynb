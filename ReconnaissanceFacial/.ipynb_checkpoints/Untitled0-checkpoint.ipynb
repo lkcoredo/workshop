{
 "cells": [
  {
   "cell_type": "code",
   "execution_count": 1,
   "metadata": {
    "executionInfo": {
     "elapsed": 837,
     "status": "ok",
     "timestamp": 1637589881167,
     "user": {
      "displayName": "Ch at",
      "photoUrl": "https://lh3.googleusercontent.com/a-/AOh14Gj_4Kc4I9TGsk8FjbnAs_R6aqFsq4EF14XYF4af7Q=s64",
      "userId": "09722344980638504648"
     },
     "user_tz": -60
    },
    "id": "qH-Zz-vL9bVN"
   },
   "outputs": [],
   "source": [
    "import cv2"
   ]
  },
  {
   "cell_type": "code",
   "execution_count": 2,
   "metadata": {
    "executionInfo": {
     "elapsed": 222,
     "status": "ok",
     "timestamp": 1637589919114,
     "user": {
      "displayName": "Ch at",
      "photoUrl": "https://lh3.googleusercontent.com/a-/AOh14Gj_4Kc4I9TGsk8FjbnAs_R6aqFsq4EF14XYF4af7Q=s64",
      "userId": "09722344980638504648"
     },
     "user_tz": -60
    },
    "id": "gGgnqCDS9xr-"
   },
   "outputs": [],
   "source": [
    "cascadeClassifierPath = 'haarcascade_frontalface_alt.xml' # Chemin du Classifier\n",
    "cascadeClassifier = cv2.CascadeClassifier(cascadeClassifierPath)\n",
    "cap = cv2.VideoCapture(\"video.mp4\") # On récupère la vidéo"
   ]
  },
  {
   "cell_type": "code",
   "execution_count": null,
   "metadata": {
    "executionInfo": {
     "elapsed": 251,
     "status": "ok",
     "timestamp": 1637589955121,
     "user": {
      "displayName": "Ch at",
      "photoUrl": "https://lh3.googleusercontent.com/a-/AOh14Gj_4Kc4I9TGsk8FjbnAs_R6aqFsq4EF14XYF4af7Q=s64",
      "userId": "09722344980638504648"
     },
     "user_tz": -60
    },
    "id": "su3DPDUV90Fd"
   },
   "outputs": [],
   "source": [
    "while(cap.isOpened()):\n",
    "\t_, frame = cap.read()\n",
    "\tgrayImage = cv2.cvtColor(frame, cv2.COLOR_BGR2GRAY) # Conversion N/B\n",
    "\tdetectedFaces = cascadeClassifier.detectMultiScale(grayImage,  scaleFactor=1.1, minNeighbors=10, minSize=(20, 20)) # Détection\n",
    "\n",
    "\tfor(x,y, width, height) in detectedFaces:\n",
    "\t\tcv2.rectangle(frame, (x, y), (x+width, y+height), (0,255,0), 3) # Dessin d'un rectangle\n",
    "\t\t\n",
    "\tcv2.imshow(\"result\", frame)\n",
    "\tif cv2.waitKey(1) == ord('q'):\n",
    "\t\tbreak\n",
    "\n",
    "cap.release()\n",
    "cv2.destroyAllWindows()"
   ]
  },
  {
   "cell_type": "code",
   "execution_count": null,
   "metadata": {},
   "outputs": [],
   "source": []
  }
 ],
 "metadata": {
  "colab": {
   "authorship_tag": "ABX9TyP0IXwy7J/2+AfgHpQoH3Uk",
   "name": "Untitled0.ipynb",
   "provenance": []
  },
  "kernelspec": {
   "display_name": "Python 3",
   "language": "python",
   "name": "python3"
  },
  "language_info": {
   "codemirror_mode": {
    "name": "ipython",
    "version": 3
   },
   "file_extension": ".py",
   "mimetype": "text/x-python",
   "name": "python",
   "nbconvert_exporter": "python",
   "pygments_lexer": "ipython3",
   "version": "3.8.6rc1"
  }
 },
 "nbformat": 4,
 "nbformat_minor": 1
}
