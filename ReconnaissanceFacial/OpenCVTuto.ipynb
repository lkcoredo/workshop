{
 "cells": [
  {
   "cell_type": "code",
   "execution_count": 20,
   "metadata": {},
   "outputs": [],
   "source": [
    "import numpy as np"
   ]
  },
  {
   "cell_type": "code",
   "execution_count": 21,
   "metadata": {},
   "outputs": [],
   "source": [
    "import cv2"
   ]
  },
  {
   "cell_type": "code",
   "execution_count": 22,
   "metadata": {},
   "outputs": [],
   "source": [
    "face_cascade = cv2.CascadeClassifier('cascades/data/haarcascade_frontalface_alt2.xml')"
   ]
  },
  {
   "cell_type": "code",
   "execution_count": 23,
   "metadata": {},
   "outputs": [],
   "source": [
    "cap = cv2.VideoCapture(0)"
   ]
  },
  {
   "cell_type": "code",
   "execution_count": 24,
   "metadata": {
    "scrolled": true
   },
   "outputs": [
    {
     "name": "stdout",
     "output_type": "stream",
     "text": [
      "238 183 152 152\n",
      "238 184 152 152\n",
      "238 183 152 152\n",
      "238 184 152 152\n",
      "238 183 152 152\n",
      "237 182 152 152\n",
      "237 184 152 152\n",
      "237 182 152 152\n",
      "237 182 152 152\n",
      "237 183 152 152\n",
      "237 183 152 152\n",
      "238 184 152 152\n",
      "237 184 152 152\n",
      "238 184 152 152\n",
      "238 184 152 152\n",
      "236 185 152 152\n",
      "239 184 152 152\n",
      "235 187 152 152\n",
      "236 188 152 152\n",
      "238 187 152 152\n",
      "239 186 152 152\n",
      "239 185 152 152\n",
      "235 185 152 152\n",
      "240 190 152 152\n",
      "238 189 152 152\n",
      "203 161 228 228\n",
      "237 188 152 152\n",
      "198 167 228 228\n",
      "237 194 152 152\n",
      "197 171 228 228\n",
      "236 199 152 152\n",
      "198 169 228 228\n",
      "202 169 228 228\n",
      "205 174 228 228\n",
      "199 181 228 228\n",
      "199 181 228 228\n",
      "201 185 228 228\n",
      "200 187 228 228\n",
      "199 190 228 228\n",
      "197 196 228 228\n",
      "195 195 228 228\n",
      "195 195 228 228\n",
      "197 195 228 228\n",
      "198 198 228 228\n",
      "198 198 228 228\n",
      "199 200 228 228\n",
      "198 203 228 228\n",
      "198 203 228 228\n",
      "197 205 228 228\n",
      "198 202 228 228\n",
      "198 202 228 228\n",
      "197 205 228 228\n",
      "198 203 228 228\n",
      "197 205 228 228\n",
      "198 203 228 228\n",
      "198 203 228 228\n",
      "198 202 228 228\n",
      "199 200 228 228\n",
      "198 202 228 228\n",
      "198 200 228 228\n",
      "198 202 228 228\n",
      "198 202 228 228\n",
      "198 202 228 228\n",
      "198 203 228 228\n",
      "198 200 228 228\n",
      "198 202 228 228\n",
      "199 200 228 228\n",
      "198 202 228 228\n",
      "199 200 228 228\n",
      "198 202 228 228\n",
      "197 202 228 228\n",
      "198 203 228 228\n",
      "198 202 228 228\n",
      "198 203 228 228\n",
      "198 203 228 228\n",
      "199 200 228 228\n",
      "198 203 228 228\n",
      "198 203 228 228\n",
      "198 203 228 228\n",
      "198 203 228 228\n",
      "198 203 228 228\n",
      "198 203 228 228\n",
      "198 203 228 228\n",
      "200 203 228 228\n",
      "200 203 228 228\n",
      "198 203 228 228\n",
      "198 203 228 228\n",
      "203 203 228 228\n",
      "203 203 228 228\n",
      "200 203 228 228\n",
      "200 203 228 228\n",
      "194 205 228 228\n",
      "197 205 228 228\n",
      "195 206 228 228\n",
      "203 210 228 228\n",
      "202 216 228 228\n"
     ]
    },
    {
     "ename": "KeyboardInterrupt",
     "evalue": "",
     "output_type": "error",
     "traceback": [
      "\u001b[1;31m---------------------------------------------------------------------------\u001b[0m",
      "\u001b[1;31mKeyboardInterrupt\u001b[0m                         Traceback (most recent call last)",
      "\u001b[1;32m<ipython-input-24-d64dfaf04d0e>\u001b[0m in \u001b[0;36m<module>\u001b[1;34m\u001b[0m\n\u001b[0;32m      9\u001b[0m         \u001b[0mcv2\u001b[0m\u001b[1;33m.\u001b[0m\u001b[0mimwrite\u001b[0m\u001b[1;33m(\u001b[0m\u001b[0mimg_item\u001b[0m\u001b[1;33m,\u001b[0m \u001b[0mroi_gray\u001b[0m\u001b[1;33m)\u001b[0m\u001b[1;33m\u001b[0m\u001b[1;33m\u001b[0m\u001b[0m\n\u001b[0;32m     10\u001b[0m     \u001b[0mcv2\u001b[0m\u001b[1;33m.\u001b[0m\u001b[0mimshow\u001b[0m\u001b[1;33m(\u001b[0m\u001b[1;34m'frame'\u001b[0m\u001b[1;33m,\u001b[0m \u001b[0mframe\u001b[0m\u001b[1;33m)\u001b[0m\u001b[1;33m\u001b[0m\u001b[1;33m\u001b[0m\u001b[0m\n\u001b[1;32m---> 11\u001b[1;33m     \u001b[1;32mif\u001b[0m \u001b[0mcv2\u001b[0m\u001b[1;33m.\u001b[0m\u001b[0mwaitKey\u001b[0m\u001b[1;33m(\u001b[0m\u001b[1;36m20\u001b[0m\u001b[1;33m)\u001b[0m \u001b[1;33m&\u001b[0m \u001b[1;36m0xFF\u001b[0m \u001b[1;33m==\u001b[0m \u001b[0mord\u001b[0m\u001b[1;33m(\u001b[0m\u001b[1;34m'q'\u001b[0m\u001b[1;33m)\u001b[0m\u001b[1;33m:\u001b[0m\u001b[1;33m\u001b[0m\u001b[1;33m\u001b[0m\u001b[0m\n\u001b[0m\u001b[0;32m     12\u001b[0m         \u001b[1;32mbreak\u001b[0m\u001b[1;33m\u001b[0m\u001b[1;33m\u001b[0m\u001b[0m\n",
      "\u001b[1;31mKeyboardInterrupt\u001b[0m: "
     ]
    }
   ],
   "source": [
    "while(True):\n",
    "    ret, frame = cap.read()\n",
    "    gray = cv2.cvtColor(frame, cv2.COLOR_BGR2GRAY)\n",
    "    faces = face_cascade.detectMultiScale(gray, scaleFactor=1.5, minNeighbors=5)\n",
    "    for (x, y, w, h) in faces:\n",
    "        print(x, y, w, h)\n",
    "        roi_gray = gray[y:y+h, x:x+w]\n",
    "        roi_color = frame[y:y+h, x:x+w]\n",
    "        img_item = \"my-image.png\"\n",
    "        cv2.imwrite(img_item, roi_gray)\n",
    "    cv2.imshow('frame', frame)\n",
    "    if cv2.waitKey(20) & 0xFF == ord('q'):\n",
    "        break"
   ]
  },
  {
   "cell_type": "code",
   "execution_count": null,
   "metadata": {},
   "outputs": [],
   "source": [
    "cap.release()\n",
    "cv2.destroyAllWindows()"
   ]
  },
  {
   "cell_type": "code",
   "execution_count": 8,
   "metadata": {},
   "outputs": [
    {
     "name": "stdout",
     "output_type": "stream",
     "text": [
      "c:\\users\\lukas\\appdata\\local\\programs\\python\\python38\\lib\\site-packages\\cv2\\cv2.cp38-win_amd64.pyd\n"
     ]
    }
   ],
   "source": [
    "print(cv2.__file__)"
   ]
  },
  {
   "cell_type": "code",
   "execution_count": null,
   "metadata": {},
   "outputs": [],
   "source": []
  }
 ],
 "metadata": {
  "kernelspec": {
   "display_name": "Python 3",
   "language": "python",
   "name": "python3"
  },
  "language_info": {
   "codemirror_mode": {
    "name": "ipython",
    "version": 3
   },
   "file_extension": ".py",
   "mimetype": "text/x-python",
   "name": "python",
   "nbconvert_exporter": "python",
   "pygments_lexer": "ipython3",
   "version": "3.8.6rc1"
  }
 },
 "nbformat": 4,
 "nbformat_minor": 4
}
